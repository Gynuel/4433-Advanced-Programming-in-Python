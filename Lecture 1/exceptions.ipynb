{
 "cells": [
  {
   "cell_type": "markdown",
   "id": "073073d8-7e5c-47ba-9f89-3bccfa6e5be4",
   "metadata": {},
   "source": [
    "# Exceptions"
   ]
  },
  {
   "cell_type": "markdown",
   "id": "cedf9f32-10ee-40ec-97f6-7dc736d04705",
   "metadata": {},
   "source": [
    "## Errors"
   ]
  },
  {
   "cell_type": "code",
   "execution_count": null,
   "id": "80cd6451-ce26-4e7d-a3da-fc1336a628c9",
   "metadata": {},
   "outputs": [],
   "source": [
    "10 / 0  # ZeroDivisionError"
   ]
  },
  {
   "cell_type": "code",
   "execution_count": null,
   "id": "b21bc0ba-1c4e-49a9-84cd-c0ed475b9d36",
   "metadata": {},
   "outputs": [],
   "source": [
    "value = int(\"Not an integer\")  # ValueError"
   ]
  },
  {
   "cell_type": "code",
   "execution_count": null,
   "id": "2c2d7893-96cc-4983-80fd-e228a4c9b897",
   "metadata": {},
   "outputs": [],
   "source": [
    "open(\"I_do_not_exist.csv\")  # FileNotFoundError"
   ]
  },
  {
   "cell_type": "markdown",
   "id": "37bc1fdc-8ad0-4051-8fb1-89a804d2c0f1",
   "metadata": {},
   "source": [
    "## `try` statement"
   ]
  },
  {
   "cell_type": "markdown",
   "id": "bad6c44c-9f67-4616-8a2e-c1f9a2dc3be5",
   "metadata": {},
   "source": [
    "`try` Clause\n",
    "- `try` statements enable exception handling\n",
    "- `try` clause followed by a suite of statements that might raise exceptions\n",
    "\n",
    "`except` Clause\n",
    "- `try` clause's suite may be followed by one or more`except` clauses\n",
    "- Known as exception *handlers*\n",
    "- Each specifies the type of exception it handles\n",
    "\n",
    "`else` Clause\n",
    "- After the last `except` clause, an optional `else` clause specifies code that should execute only if the code in the `try` suite did not raise exceptions"
   ]
  },
  {
   "cell_type": "markdown",
   "id": "cb7b29cb-e4a4-4efa-ae42-f5c4feca77b4",
   "metadata": {},
   "source": [
    "### Example 1: values"
   ]
  },
  {
   "cell_type": "code",
   "execution_count": null,
   "id": "6f2fb3c8-0797-49ed-b789-fad2e0fe8650",
   "metadata": {},
   "outputs": [],
   "source": [
    "\"\"\"Simple exception handling example that.\"\"\"\n",
    "\n",
    "while True:\n",
    "    # attempt to convert and divide values\n",
    "    try:\n",
    "        number1 = int(input('Enter numerator: '))\n",
    "        number2 = int(input('Enter denominator: '))\n",
    "        result = number1 / number2\n",
    "    except ValueError:  # tried to convert non-numeric value to int\n",
    "        print('You must enter two integers\\n')\n",
    "    except ZeroDivisionError:  # denominator was 0\n",
    "        print('Attempted to divide by zero\\n')\n",
    "    else:  # executes only if no exceptions occur\n",
    "        print(f'{number1:.3f} / {number2:.3f} = {result:.3f}')\n",
    "        break  # terminate the loop"
   ]
  },
  {
   "cell_type": "markdown",
   "id": "9e3a8de7-4dbb-4c44-bef4-483e60f66d51",
   "metadata": {},
   "source": [
    "### Example 2: files"
   ]
  },
  {
   "cell_type": "code",
   "execution_count": null,
   "id": "7c714667-1bf3-4c87-a22b-af440fa7c81d",
   "metadata": {},
   "outputs": [],
   "source": [
    "\"\"\"Another simple exception handling example.\"\"\"\n",
    "\n",
    "try:\n",
    "    with open('gradez. txt', 'r') as accounts:\n",
    "        print(f'{\"ID\":<3} {\"Name\":<7}{\"Grade\"} ')\n",
    "        for record in accounts:\n",
    "            student_id, name, grade = record.split()\n",
    "            print(f' {student_id:<3} {name:<7} {grade}')\n",
    "except FileNotFoundError:\n",
    "    print('The file name you specified does not exist')"
   ]
  },
  {
   "cell_type": "markdown",
   "id": "76ceeee8-c32c-49fe-b4e8-2a00229c1d7e",
   "metadata": {},
   "source": [
    "## Capturing multiple exceptions at once"
   ]
  },
  {
   "cell_type": "code",
   "execution_count": null,
   "id": "80e25064-3bfd-4a0f-8af3-fd69f7f03da7",
   "metadata": {},
   "outputs": [],
   "source": [
    "try:\n",
    "    number1 = int(input('Enter numerator: '))\n",
    "    number2 = int(input('Enter denominator: '))\n",
    "    result = number1 / number2\n",
    "except (ValueError, ZeroDivisionError) as error:  # capturing the error in a variable\n",
    "    print(f\"The following error was raised: {error}\")\n",
    "else:\n",
    "    print(f'{number1:.3f} / {number2:.3f} = {result:.3f}')"
   ]
  },
  {
   "cell_type": "markdown",
   "id": "ac62f80a-c690-46f8-a4df-4ca4577b0913",
   "metadata": {},
   "source": [
    "See [https://docs.python.org/3/library/exceptions.html](https://docs.python.org/3/library/exceptions.html) for a list of built-in exceptions."
   ]
  },
  {
   "cell_type": "markdown",
   "id": "8a107c9e-4ab5-4158-bb6b-ad6ae4965abf",
   "metadata": {},
   "source": [
    "## `finally` clause --> skip"
   ]
  },
  {
   "cell_type": "markdown",
   "id": "f00541a8-510e-4998-8782-7a721801c9ed",
   "metadata": {},
   "source": [
    "`finally` suite always executes, can be relevant to close a resource"
   ]
  },
  {
   "cell_type": "code",
   "execution_count": null,
   "id": "6c4383d8-5338-45f9-a99e-595e0378d364",
   "metadata": {},
   "outputs": [],
   "source": [
    "try:\n",
    "    print('try suite that raises an exception')\n",
    "    int('hello')\n",
    "    # int('5')\n",
    "    print('this will not execute')\n",
    "except ValueError:\n",
    "    print('ValueError occurred')\n",
    "else:\n",
    "    print('else will not execute because an exception occurred')\n",
    "finally:\n",
    "    print('finally always executes')"
   ]
  },
  {
   "cell_type": "code",
   "execution_count": null,
   "id": "ddba80d6-26fb-426a-ad7d-34437dd4ed0e",
   "metadata": {},
   "outputs": [],
   "source": [
    "def func():\n",
    "    try:\n",
    "        int('hello')\n",
    "    except ValueError:\n",
    "        print('ValueError occurred')\n",
    "        return None\n",
    "    finally:\n",
    "        print('finally always executes')\n",
    "    print('This is not executed')\n",
    "\n",
    "\n",
    "func()"
   ]
  },
  {
   "cell_type": "markdown",
   "id": "c2093270-434c-4ce3-bfba-7b268a899676",
   "metadata": {},
   "source": [
    "## `raise` an exception"
   ]
  },
  {
   "cell_type": "markdown",
   "id": "00da1fb5-0a02-46c5-a5b6-5e5ef87b39b1",
   "metadata": {},
   "source": [
    "The `raise` statement 'raises' an exception."
   ]
  },
  {
   "cell_type": "code",
   "execution_count": null,
   "id": "a49df3ee-dbfa-47a0-8919-79df5f33b1eb",
   "metadata": {},
   "outputs": [],
   "source": [
    "def function1():\n",
    "    try:\n",
    "        function2(11)\n",
    "    except ValueError:\n",
    "        print(\"Enter a number between 1 and 10\")\n",
    "\n",
    "\n",
    "def function2(x):\n",
    "    if x > 10:\n",
    "        raise ValueError\n",
    "\n",
    "\n",
    "function1()"
   ]
  },
  {
   "cell_type": "code",
   "execution_count": null,
   "id": "fba4e2e7-38c2-427f-b6d4-ead58807a43e",
   "metadata": {},
   "outputs": [],
   "source": []
  },
  {
   "cell_type": "code",
   "execution_count": null,
   "id": "5e850867-e509-406f-927d-ad542ba538f7",
   "metadata": {},
   "outputs": [],
   "source": []
  }
 ],
 "metadata": {
  "kernelspec": {
   "display_name": "Python 3 (ipykernel)",
   "language": "python",
   "name": "python3"
  },
  "language_info": {
   "codemirror_mode": {
    "name": "ipython",
    "version": 3
   },
   "file_extension": ".py",
   "mimetype": "text/x-python",
   "name": "python",
   "nbconvert_exporter": "python",
   "pygments_lexer": "ipython3",
   "version": "3.11.6"
  }
 },
 "nbformat": 4,
 "nbformat_minor": 5
}
