{
 "cells": [
  {
   "cell_type": "markdown",
   "metadata": {},
   "source": [
    "# Regular expressions"
   ]
  },
  {
   "cell_type": "markdown",
   "metadata": {},
   "source": [
    "Based on Chapter 9 of \\[AM\\] and Section 8.12 in \\[DD\\]:\n",
    "- \\[AM\\] = AdditionalMaterial.pdf\n",
    "- \\[DD\\] = Intro to Python for Computer Science and Data Science: Learning to Program with AI, Big Data and The Cloud by Paul Deitel and Harvey Deitel. Pearson, 2020. This book is available through the campus book store.\n"
   ]
  },
  {
   "cell_type": "markdown",
   "metadata": {},
   "source": [
    "Regular expressions, also called regex, is a syntax or rather a language to search, extract and manipulate specific string patterns from a larger text. It is widely used in projects that involve text validation, NLP and text mining."
   ]
  },
  {
   "cell_type": "markdown",
   "metadata": {},
   "source": [
    "## Dealing with the backslash `\\`"
   ]
  },
  {
   "cell_type": "markdown",
   "metadata": {},
   "source": [
    "A backslash is an escape character:"
   ]
  },
  {
   "cell_type": "code",
   "execution_count": null,
   "metadata": {},
   "outputs": [],
   "source": [
    "print(\"Hello\\nthis statement is printed on a newline\")"
   ]
  },
  {
   "cell_type": "markdown",
   "metadata": {},
   "source": [
    "What if you want to print the escape character? Just escape it!"
   ]
  },
  {
   "cell_type": "code",
   "execution_count": null,
   "metadata": {},
   "outputs": [],
   "source": [
    "print(\"This statement prints \\\\n\")"
   ]
  },
  {
   "cell_type": "markdown",
   "metadata": {},
   "source": [
    "Or use an r-string (raw string). An r-string does not interpretate backslashes as an escape character but considers them as the backslash character."
   ]
  },
  {
   "cell_type": "code",
   "execution_count": null,
   "metadata": {},
   "outputs": [],
   "source": [
    "print(r\"This statement prints \\n\")"
   ]
  },
  {
   "cell_type": "code",
   "execution_count": null,
   "metadata": {},
   "outputs": [],
   "source": [
    "print(r\"This statement prints \\\\n\")"
   ]
  },
  {
   "cell_type": "markdown",
   "metadata": {},
   "source": [
    "## A regex pattern"
   ]
  },
  {
   "cell_type": "markdown",
   "metadata": {},
   "source": [
    "A regex pattern is a special language used to represent generic text, numbers or symbols so it can be used to extract texts that conform to that pattern.\n",
    "A basic example is `r’\\s+’`. Here the `’\\s’` matches any whitespace character. By adding a `+` notation at the end will make the pattern match at least 1 or more spaces. So, this pattern will match even tab `’\\t’` characters as well.\n",
    "A larger list of regex patterns comes later. But before getting to that, let’s see how to compile and play with regular expressions."
   ]
  },
  {
   "cell_type": "code",
   "execution_count": null,
   "metadata": {},
   "outputs": [],
   "source": [
    "\"\"\"imports the re package and compiles a regular expression pattern \n",
    "   that can match at least one or more space characters \"\"\"\n",
    "\n",
    "import re\n",
    "regex_ws = re.compile(\"\\s+\")"
   ]
  },
  {
   "cell_type": "code",
   "execution_count": null,
   "metadata": {},
   "outputs": [],
   "source": [
    "text = \"\"\"101 COM    Computers \n",
    "205 MAT  Mathematics\n",
    "189 ENG   English\"\"\""
   ]
  },
  {
   "cell_type": "code",
   "execution_count": null,
   "metadata": {},
   "outputs": [],
   "source": [
    "text.split(\" \")"
   ]
  },
  {
   "cell_type": "code",
   "execution_count": null,
   "metadata": {},
   "outputs": [],
   "source": [
    "# split text on all whitespace characters\n",
    "regex_ws.split(text)"
   ]
  },
  {
   "cell_type": "code",
   "execution_count": null,
   "metadata": {},
   "outputs": [],
   "source": [
    "# another possibility\n",
    "# no prior compilation\n",
    "re.split(\"\\s+\", text)"
   ]
  },
  {
   "cell_type": "markdown",
   "metadata": {},
   "source": [
    "## Finding patterns "
   ]
  },
  {
   "cell_type": "markdown",
   "metadata": {
    "tags": []
   },
   "source": [
    "### `findall`\n",
    "`findall` returns the matched portions of the text as a list"
   ]
  },
  {
   "cell_type": "code",
   "execution_count": null,
   "metadata": {},
   "outputs": [],
   "source": [
    "# find all whitspace\n",
    "\n",
    "print(text)\n",
    "regex_ws.findall(text)"
   ]
  },
  {
   "cell_type": "code",
   "execution_count": null,
   "metadata": {},
   "outputs": [],
   "source": [
    "# \\d matches a decimal character\n",
    "regex_decimal = re.compile('\\d+')"
   ]
  },
  {
   "cell_type": "code",
   "execution_count": null,
   "metadata": {},
   "outputs": [],
   "source": [
    "regex_decimal.findall(text)"
   ]
  },
  {
   "cell_type": "markdown",
   "metadata": {},
   "source": [
    "### `search`\n",
    "\n",
    "As the name suggests, `search` searches for the pattern in a given text. But unlike `findall` which returns the matched portions of the text as a list, `search` returns a particular match object that contains the starting and ending positions of the *first*\n",
    "occurrence of the pattern."
   ]
  },
  {
   "cell_type": "code",
   "execution_count": null,
   "metadata": {},
   "outputs": [],
   "source": [
    "# returns a match object m\n",
    "m = regex_decimal.search(text)"
   ]
  },
  {
   "cell_type": "code",
   "execution_count": null,
   "metadata": {},
   "outputs": [],
   "source": [
    "print('Starting Position: ', m.start())\n",
    "print('Ending Position: ', m.end())\n",
    "print(text[m.start():m.end()])"
   ]
  },
  {
   "cell_type": "code",
   "execution_count": null,
   "metadata": {},
   "outputs": [],
   "source": [
    "print(m.group())"
   ]
  },
  {
   "cell_type": "code",
   "execution_count": null,
   "metadata": {},
   "outputs": [],
   "source": [
    "# \\w matches every alpha numerical character\n",
    "# . matches any single character\n",
    "\n",
    "m = re.search('\\d+.\\w+', text)\n",
    "print('Starting Position: ', m.start())\n",
    "print('Ending Position: ', m.end())\n",
    "print(m.group())"
   ]
  },
  {
   "cell_type": "markdown",
   "metadata": {},
   "source": [
    "`regex.match()` also returns a match object. But the difference is, it requires the\n",
    "pattern to be present at the beginning of the text itself."
   ]
  },
  {
   "cell_type": "markdown",
   "metadata": {},
   "source": [
    "### `sub`\n",
    "\n",
    "With `sub` you can replace text."
   ]
  },
  {
   "cell_type": "code",
   "execution_count": null,
   "metadata": {},
   "outputs": [],
   "source": [
    "text_with_tab = \"\"\"101   COM \\t Computers\n",
    "205  MAT \\t Mathematics\n",
    "189     ENG \\t English\"\"\"\n",
    "print(text_with_tab)"
   ]
  },
  {
   "cell_type": "markdown",
   "metadata": {},
   "source": [
    "Goal is to even out the spaces.  \n",
    "First try:"
   ]
  },
  {
   "cell_type": "code",
   "execution_count": null,
   "metadata": {},
   "outputs": [],
   "source": [
    "print(regex_ws.sub(' ', text_with_tab))"
   ]
  },
  {
   "cell_type": "markdown",
   "metadata": {},
   "source": [
    "Problem: `\\s` also matches `\\n`"
   ]
  },
  {
   "cell_type": "code",
   "execution_count": null,
   "metadata": {},
   "outputs": [],
   "source": [
    "# what is the whitespace that is found?\n",
    "\n",
    "regex_ws.findall(text_with_tab)"
   ]
  },
  {
   "cell_type": "code",
   "execution_count": null,
   "metadata": {},
   "outputs": [],
   "source": [
    "# get rid of all extra spaces except newline\n",
    "regex = re.compile('((?!\\n)\\s+)')"
   ]
  },
  {
   "cell_type": "markdown",
   "metadata": {},
   "source": [
    "?expression: is a zero-length assertion that returns true or false (match or no match)\n",
    "\n",
    "https://www.regular-expressions.info/lookaround.html\n",
    "\n",
    "?!\\n: returns true if the current character does not match \\n otherwise it returns false, but it does not process the character"
   ]
  },
  {
   "cell_type": "markdown",
   "metadata": {},
   "source": [
    "[https://regex101.com/r/bnOmdl/1](https://regex101.com/r/bnOmdl/1)"
   ]
  },
  {
   "cell_type": "code",
   "execution_count": null,
   "metadata": {},
   "outputs": [],
   "source": [
    "regex.findall(text_with_tab)"
   ]
  },
  {
   "cell_type": "code",
   "execution_count": null,
   "metadata": {},
   "outputs": [],
   "source": [
    "print(regex.sub(' ', text_with_tab))"
   ]
  },
  {
   "cell_type": "markdown",
   "metadata": {},
   "source": [
    "## Regex Groups"
   ]
  },
  {
   "cell_type": "code",
   "execution_count": null,
   "metadata": {},
   "outputs": [],
   "source": [
    "print(text)"
   ]
  },
  {
   "cell_type": "code",
   "execution_count": null,
   "metadata": {},
   "outputs": [],
   "source": [
    "# Notice the patterns for the course\n",
    "# num: [0-9]+         at least one digit\n",
    "# code: [A-Z]{3}      exactly 3 capital letters\n",
    "# name: [A-Za-z]{4,}  at least 4 alphabet symbols\n",
    "\n",
    "# They are all placed inside parenthesis () to form the groups.\n",
    "\n",
    "course_pattern = '([0-9]+)\\s*([A-Z]{3})\\s*([A-Za-z]{4,})'\n",
    "\n",
    "re.findall(course_pattern, text)"
   ]
  },
  {
   "cell_type": "markdown",
   "metadata": {},
   "source": [
    "## Greedy matching"
   ]
  },
  {
   "cell_type": "code",
   "execution_count": null,
   "metadata": {},
   "outputs": [],
   "source": [
    "# The default behavior of regular expressions is to be greedy:\n",
    "# Take as much as possible\n",
    "text = \"<body>Regex Greedy Matching Example </body>\"\n",
    "re.findall('<.*>', text)"
   ]
  },
  {
   "cell_type": "code",
   "execution_count": null,
   "metadata": {},
   "outputs": [],
   "source": [
    "# Lazy matching, on the other hand, ‘takes as little as possible’.\n",
    "# This can be effected by adding a ‘?’ at the end of the pattern.\n",
    "re.findall('<.*?>', text)"
   ]
  },
  {
   "cell_type": "markdown",
   "metadata": {
    "jp-MarkdownHeadingCollapsed": true,
    "tags": []
   },
   "source": [
    "### Metacharacters, Character Classes and Quantifiers\n",
    "* Regular expressions typically contain various special symbols called **metacharacters**:\n",
    "\n",
    "| Regular expression metacharacters|\n",
    "| --------\n",
    "| `[]  `  `{}  `  `()  `  `\\  `  `*  `  `+  `  `^  `  `$  `  `?  `  `.  `  `\\|`\n",
    "\n",
    "- ˆ Matches beginning of line.\n",
    "- $ Matches end of line.\n",
    "- . Matches any single character except newline. Using re.s option allows it to match newline as well.\n",
    "- \\[...\\] Matches any single character in brackets.\n",
    "- \\[ˆ...\\] Matches any single character not in brackets\n",
    "- \\* Matches 0 or more occurrences of preceding expression.\n",
    "- \\+ Matches 1 or more occurrence of preceding expression.\n",
    "- \\? Matches 0 or 1 occurrence of preceding expression.\n",
    "- {n} Matches exactly n number of occurrences of preceding expression.\n",
    "- {n,} Matches n or more occurrences of preceding expression.\n",
    "- {n, m} Matches at least n and at most m occurrences of preceding expression. \n",
    "- a|b Matches either a or b.\n",
    "\n",
    "\n",
    "**`\\` metacharacter** begins each predefined **character class**\n",
    "Each matches a specific set of characters"
   ]
  },
  {
   "cell_type": "markdown",
   "metadata": {
    "tags": []
   },
   "source": [
    "| Character class| Matches|\n",
    "| ------------| ------------\n",
    "| `\\d`| Any digit (0–9).\n",
    "| `\\D`\t| Any character that is _not_ a digit.\n",
    "| `\\s`\t| Any whitespace character (such as spaces, tabs and newlines).\n",
    "| `\\S`\t| Any character that is _not_ a whitespace character.\n",
    "| `\\w`\t| Any **word character** (also called an **alphanumeric character**)—that is, any uppercase or lowercase letter, any digit or an underscore\n",
    "| `\\W`\t| Any character that is _not_ a word character.\n",
    "\n",
    "### Custom Character Classes\n",
    "* Square brackets, `[]`, define a **custom character class** that matches a **single** character\n",
    "* `[aeiou]` matches a lowercase vowel\n",
    "* `[A-Z]` matches an uppercase letter\n",
    "* `[a-z]` matches a lowercase letter \n",
    "* `[a-zA-Z]` matches any lowercase or uppercase letter"
   ]
  },
  {
   "cell_type": "markdown",
   "metadata": {},
   "source": [
    "[https://regex101.com](https://regex101.com)"
   ]
  },
  {
   "cell_type": "markdown",
   "metadata": {},
   "source": [
    "# Resources"
   ]
  },
  {
   "cell_type": "markdown",
   "metadata": {},
   "source": [
    "- [re — Regular expression operations — Python documentation](https://docs.python.org/3/library/re.html?highlight=regular%20expressions)\n",
    "- [Regular Expressions: Regexes in Python (Part 1) – Real Python](https://realpython.com/regex-python/)\n",
    "- [https://regex101.com](https://regex101.com)"
   ]
  },
  {
   "cell_type": "markdown",
   "metadata": {},
   "source": [
    "## The problem with backslashes"
   ]
  },
  {
   "cell_type": "markdown",
   "metadata": {},
   "source": [
    "Example taken from [https://realpython.com/regex-python/](https://realpython.com/regex-python/)"
   ]
  },
  {
   "cell_type": "code",
   "execution_count": null,
   "metadata": {},
   "outputs": [],
   "source": [
    "s = r'foo\\bar'\n",
    "print(s)"
   ]
  },
  {
   "cell_type": "markdown",
   "metadata": {},
   "source": [
    "Now suppose you want to create a regex that will match the backslash between 'foo' and 'bar'. The backslash is itself a special character in a regex, so to specify a literal backslash, you need to escape it with another backslash. If that’s that case, then the following should work:\n"
   ]
  },
  {
   "cell_type": "code",
   "execution_count": null,
   "metadata": {},
   "outputs": [],
   "source": [
    "re.search('\\', s)"
   ]
  },
  {
   "cell_type": "code",
   "execution_count": null,
   "metadata": {},
   "outputs": [],
   "source": [
    "re.search('\\\\', s)"
   ]
  },
  {
   "cell_type": "markdown",
   "metadata": {},
   "source": [
    "Oops. What happened?\n",
    "\n",
    "The problem here is that the backslash escaping happens twice, first by the Python interpreter on the string literal and then again by the regex parser on the regex it receives.\n",
    "\n",
    "Here’s the sequence of events:\n",
    "\n",
    "- The Python interpreter is the first to process the string literal `\\\\`. It interprets that as an escaped backslash and passes only a single backslash to re.search().\n",
    "- The regex parser receives just a single backslash, which isn’t a meaningful regex, so the messy error ensues."
   ]
  },
  {
   "cell_type": "code",
   "execution_count": null,
   "metadata": {},
   "outputs": [],
   "source": [
    "m = re.search('\\\\\\\\', s)\n",
    "m.start()"
   ]
  },
  {
   "cell_type": "code",
   "execution_count": null,
   "metadata": {},
   "outputs": [],
   "source": [
    "m = re.search(r'\\\\', s)\n",
    "m.start()"
   ]
  },
  {
   "cell_type": "markdown",
   "metadata": {},
   "source": [
    "This suppresses the escaping at the interpreter level. The string `\\\\` gets passed unchanged to the regex parser, which again sees one escaped backslash as desired.\n",
    "\n",
    "It’s good practice to use a raw string to specify a regex in Python whenever it contains backslashes."
   ]
  },
  {
   "cell_type": "code",
   "execution_count": null,
   "metadata": {},
   "outputs": [],
   "source": []
  }
 ],
 "metadata": {
  "kernelspec": {
   "display_name": "Python 3 (ipykernel)",
   "language": "python",
   "name": "python3"
  },
  "language_info": {
   "codemirror_mode": {
    "name": "ipython",
    "version": 3
   },
   "file_extension": ".py",
   "mimetype": "text/x-python",
   "name": "python",
   "nbconvert_exporter": "python",
   "pygments_lexer": "ipython3",
   "version": "3.11.6"
  }
 },
 "nbformat": 4,
 "nbformat_minor": 4
}
